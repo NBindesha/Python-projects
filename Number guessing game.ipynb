{
 "cells": [
  {
   "cell_type": "markdown",
   "id": "977f9bc5",
   "metadata": {},
   "source": [
    "# Number guessing game in Python 3\n",
    " \n",
    "## Below are the steps:\n",
    "\n",
    "#### 1. Build a Number guessing game, in which the user selects a range.\n",
    "#### 2. Let’s say User selected a range, i.e., from A to B, where A and B belong to Integer.\n",
    "#### 3. Some random integer will be selected by the system and the user has to guess that integer in the minimum number of guesses"
   ]
  },
  {
   "cell_type": "code",
   "execution_count": 2,
   "id": "a93312f8",
   "metadata": {},
   "outputs": [
    {
     "name": "stdout",
     "output_type": "stream",
     "text": [
      "Enter Lower bound:- 1\n",
      "Enter Upper bound:- 100\n",
      "\n",
      "\tYou've only  7  chances to guess the integer!\n",
      "\n",
      "Guess a number:- 1\n",
      "You guessed too small!\n",
      "Guess a number:- 35\n",
      "You guessed too small!\n",
      "Guess a number:- 65\n",
      "You Guessed too high!\n",
      "Guess a number:- 50\n",
      "You Guessed too high!\n",
      "Guess a number:- 46\n",
      "You Guessed too high!\n",
      "Guess a number:- 40\n",
      "You guessed too small!\n",
      "Guess a number:- 42\n",
      "Congratulations you did it in  7  try\n",
      "\n",
      "The number is 42\n",
      "\tBetter Luck Next time!\n"
     ]
    }
   ],
   "source": [
    "import random\n",
    "import math\n",
    "# Taking Inputs\n",
    "lower = int(input(\"Enter Lower bound:- \"))\n",
    "\n",
    "# Taking Inputs\n",
    "upper = int(input(\"Enter Upper bound:- \"))\n",
    "\n",
    "# generating random number between\n",
    "# the lower and upper\n",
    "x = random.randint(lower, upper)\n",
    "print(\"\\n\\tYou've only \",\n",
    "\tround(math.log(upper - lower + 1, 2)),\n",
    "\t\" chances to guess the integer!\\n\")\n",
    "\n",
    "# Initializing the number of guesses.\n",
    "count = 0\n",
    "\n",
    "# for calculation of minimum number of\n",
    "# guesses depends upon range\n",
    "while count < math.log(upper - lower + 1, 2):\n",
    "\tcount += 1\n",
    "\n",
    "\t# taking guessing number as input\n",
    "\tguess = int(input(\"Guess a number:- \"))\n",
    "\n",
    "\t# Condition testing\n",
    "\tif x == guess:\n",
    "\t\tprint(\"Congratulations you did it in \",\n",
    "\t\t\tcount, \" try\")\n",
    "\t\t# Once guessed, loop will break\n",
    "\t\tbreak\n",
    "\telif x > guess:\n",
    "\t\tprint(\"You guessed too small!\")\n",
    "\telif x < guess:\n",
    "\t\tprint(\"You Guessed too high!\")\n",
    "\n",
    "# If Guessing is more than required guesses,\n",
    "# shows this output.\n",
    "if count >= math.log(upper - lower + 1, 2):\n",
    "\tprint(\"\\nThe number is %d\" % x)\n",
    "\tprint(\"\\tBetter Luck Next time!\")\n",
    "\n",
    "# Better to use This source Code on pycharm!\n"
   ]
  },
  {
   "cell_type": "code",
   "execution_count": null,
   "id": "c36671bb",
   "metadata": {},
   "outputs": [],
   "source": []
  }
 ],
 "metadata": {
  "kernelspec": {
   "display_name": "Python 3 (ipykernel)",
   "language": "python",
   "name": "python3"
  },
  "language_info": {
   "codemirror_mode": {
    "name": "ipython",
    "version": 3
   },
   "file_extension": ".py",
   "mimetype": "text/x-python",
   "name": "python",
   "nbconvert_exporter": "python",
   "pygments_lexer": "ipython3",
   "version": "3.9.13"
  }
 },
 "nbformat": 4,
 "nbformat_minor": 5
}
